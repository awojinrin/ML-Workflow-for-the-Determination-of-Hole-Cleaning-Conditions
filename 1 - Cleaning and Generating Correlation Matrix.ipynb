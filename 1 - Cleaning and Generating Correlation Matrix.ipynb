{
 "cells": [
  {
   "cell_type": "code",
   "execution_count": 1,
   "id": "5379512b",
   "metadata": {},
   "outputs": [],
   "source": [
    "import pandas as pd\n",
    "import numpy as np\n",
    "import matplotlib.pyplot as plt\n",
    "import seaborn as sns\n",
    "from sklearn.ensemble import RandomForestRegressor\n",
    "from sklearn.metrics import r2_score as r2"
   ]
  },
  {
   "cell_type": "code",
   "execution_count": 2,
   "id": "785f5efa",
   "metadata": {},
   "outputs": [
    {
     "data": {
      "text/html": [
       "<div>\n",
       "<style scoped>\n",
       "    .dataframe tbody tr th:only-of-type {\n",
       "        vertical-align: middle;\n",
       "    }\n",
       "\n",
       "    .dataframe tbody tr th {\n",
       "        vertical-align: top;\n",
       "    }\n",
       "\n",
       "    .dataframe thead th {\n",
       "        text-align: right;\n",
       "    }\n",
       "</style>\n",
       "<table border=\"1\" class=\"dataframe\">\n",
       "  <thead>\n",
       "    <tr style=\"text-align: right;\">\n",
       "      <th></th>\n",
       "      <th>Density</th>\n",
       "      <th>YP</th>\n",
       "      <th>Temperature</th>\n",
       "      <th>ROP</th>\n",
       "      <th>Pipe rotation</th>\n",
       "      <th>Flow rate</th>\n",
       "      <th>Inclination</th>\n",
       "      <th>Eccentricity</th>\n",
       "      <th>Concentration</th>\n",
       "    </tr>\n",
       "  </thead>\n",
       "  <tbody>\n",
       "    <tr>\n",
       "      <th>0</th>\n",
       "      <td>8.314</td>\n",
       "      <td>20</td>\n",
       "      <td>80</td>\n",
       "      <td>30</td>\n",
       "      <td>0</td>\n",
       "      <td>100</td>\n",
       "      <td>90</td>\n",
       "      <td>0.881</td>\n",
       "      <td>0.35</td>\n",
       "    </tr>\n",
       "    <tr>\n",
       "      <th>1</th>\n",
       "      <td>8.314</td>\n",
       "      <td>20</td>\n",
       "      <td>80</td>\n",
       "      <td>30</td>\n",
       "      <td>0</td>\n",
       "      <td>200</td>\n",
       "      <td>90</td>\n",
       "      <td>0.881</td>\n",
       "      <td>0.14</td>\n",
       "    </tr>\n",
       "    <tr>\n",
       "      <th>2</th>\n",
       "      <td>8.314</td>\n",
       "      <td>20</td>\n",
       "      <td>80</td>\n",
       "      <td>30</td>\n",
       "      <td>80</td>\n",
       "      <td>100</td>\n",
       "      <td>90</td>\n",
       "      <td>0.881</td>\n",
       "      <td>0.06</td>\n",
       "    </tr>\n",
       "    <tr>\n",
       "      <th>3</th>\n",
       "      <td>8.314</td>\n",
       "      <td>20</td>\n",
       "      <td>80</td>\n",
       "      <td>30</td>\n",
       "      <td>80</td>\n",
       "      <td>200</td>\n",
       "      <td>90</td>\n",
       "      <td>0.881</td>\n",
       "      <td>0.02</td>\n",
       "    </tr>\n",
       "    <tr>\n",
       "      <th>4</th>\n",
       "      <td>8.314</td>\n",
       "      <td>20</td>\n",
       "      <td>180</td>\n",
       "      <td>30</td>\n",
       "      <td>0</td>\n",
       "      <td>100</td>\n",
       "      <td>90</td>\n",
       "      <td>0.881</td>\n",
       "      <td>0.11</td>\n",
       "    </tr>\n",
       "  </tbody>\n",
       "</table>\n",
       "</div>"
      ],
      "text/plain": [
       "   Density  YP  Temperature  ROP  Pipe rotation  Flow rate  Inclination  \\\n",
       "0    8.314  20           80   30              0        100           90   \n",
       "1    8.314  20           80   30              0        200           90   \n",
       "2    8.314  20           80   30             80        100           90   \n",
       "3    8.314  20           80   30             80        200           90   \n",
       "4    8.314  20          180   30              0        100           90   \n",
       "\n",
       "   Eccentricity  Concentration  \n",
       "0         0.881           0.35  \n",
       "1         0.881           0.14  \n",
       "2         0.881           0.06  \n",
       "3         0.881           0.02  \n",
       "4         0.881           0.11  "
      ]
     },
     "execution_count": 2,
     "metadata": {},
     "output_type": "execute_result"
    }
   ],
   "source": [
    "dataset = pd.read_csv('dataframe.csv', header = 0)\n",
    "\n",
    "dataset.rename(columns = {'Density, ppg' : 'Density'}, inplace = True)\n",
    "dataset.drop(columns = ['Test No.', 'PV'], inplace = True)\n",
    "dataset.head()"
   ]
  },
  {
   "cell_type": "code",
   "execution_count": 3,
   "id": "e031df1f",
   "metadata": {},
   "outputs": [
    {
     "data": {
      "text/html": [
       "<div>\n",
       "<style scoped>\n",
       "    .dataframe tbody tr th:only-of-type {\n",
       "        vertical-align: middle;\n",
       "    }\n",
       "\n",
       "    .dataframe tbody tr th {\n",
       "        vertical-align: top;\n",
       "    }\n",
       "\n",
       "    .dataframe thead th {\n",
       "        text-align: right;\n",
       "    }\n",
       "</style>\n",
       "<table border=\"1\" class=\"dataframe\">\n",
       "  <thead>\n",
       "    <tr style=\"text-align: right;\">\n",
       "      <th></th>\n",
       "      <th>Density</th>\n",
       "      <th>YP</th>\n",
       "      <th>Temperature</th>\n",
       "      <th>ROP</th>\n",
       "      <th>Pipe rotation</th>\n",
       "      <th>Flow rate</th>\n",
       "      <th>Inclination</th>\n",
       "      <th>Eccentricity</th>\n",
       "      <th>Concentration</th>\n",
       "    </tr>\n",
       "  </thead>\n",
       "  <tbody>\n",
       "    <tr>\n",
       "      <th>count</th>\n",
       "      <td>116.000000</td>\n",
       "      <td>116.000000</td>\n",
       "      <td>116.000000</td>\n",
       "      <td>116.000000</td>\n",
       "      <td>116.000000</td>\n",
       "      <td>116.000000</td>\n",
       "      <td>116.000000</td>\n",
       "      <td>116.000000</td>\n",
       "      <td>116.000000</td>\n",
       "    </tr>\n",
       "    <tr>\n",
       "      <th>mean</th>\n",
       "      <td>9.333310</td>\n",
       "      <td>22.931034</td>\n",
       "      <td>136.034483</td>\n",
       "      <td>31.293103</td>\n",
       "      <td>33.103448</td>\n",
       "      <td>143.103448</td>\n",
       "      <td>83.258621</td>\n",
       "      <td>0.769621</td>\n",
       "      <td>0.113621</td>\n",
       "    </tr>\n",
       "    <tr>\n",
       "      <th>std</th>\n",
       "      <td>1.653067</td>\n",
       "      <td>12.718849</td>\n",
       "      <td>44.308784</td>\n",
       "      <td>6.597783</td>\n",
       "      <td>39.571922</td>\n",
       "      <td>45.989863</td>\n",
       "      <td>10.514686</td>\n",
       "      <td>0.160266</td>\n",
       "      <td>0.108719</td>\n",
       "    </tr>\n",
       "    <tr>\n",
       "      <th>min</th>\n",
       "      <td>8.314000</td>\n",
       "      <td>0.000000</td>\n",
       "      <td>80.000000</td>\n",
       "      <td>15.000000</td>\n",
       "      <td>0.000000</td>\n",
       "      <td>75.000000</td>\n",
       "      <td>67.000000</td>\n",
       "      <td>0.541000</td>\n",
       "      <td>0.000000</td>\n",
       "    </tr>\n",
       "    <tr>\n",
       "      <th>25%</th>\n",
       "      <td>8.314000</td>\n",
       "      <td>20.000000</td>\n",
       "      <td>80.000000</td>\n",
       "      <td>30.000000</td>\n",
       "      <td>0.000000</td>\n",
       "      <td>100.000000</td>\n",
       "      <td>67.000000</td>\n",
       "      <td>0.541000</td>\n",
       "      <td>0.017500</td>\n",
       "    </tr>\n",
       "    <tr>\n",
       "      <th>50%</th>\n",
       "      <td>8.314000</td>\n",
       "      <td>20.000000</td>\n",
       "      <td>120.000000</td>\n",
       "      <td>30.000000</td>\n",
       "      <td>0.000000</td>\n",
       "      <td>150.000000</td>\n",
       "      <td>90.000000</td>\n",
       "      <td>0.881000</td>\n",
       "      <td>0.075000</td>\n",
       "    </tr>\n",
       "    <tr>\n",
       "      <th>75%</th>\n",
       "      <td>12.000000</td>\n",
       "      <td>40.000000</td>\n",
       "      <td>180.000000</td>\n",
       "      <td>40.000000</td>\n",
       "      <td>80.000000</td>\n",
       "      <td>200.000000</td>\n",
       "      <td>90.000000</td>\n",
       "      <td>0.881000</td>\n",
       "      <td>0.190000</td>\n",
       "    </tr>\n",
       "    <tr>\n",
       "      <th>max</th>\n",
       "      <td>12.000000</td>\n",
       "      <td>40.000000</td>\n",
       "      <td>180.000000</td>\n",
       "      <td>40.000000</td>\n",
       "      <td>80.000000</td>\n",
       "      <td>250.000000</td>\n",
       "      <td>90.000000</td>\n",
       "      <td>0.881000</td>\n",
       "      <td>0.410000</td>\n",
       "    </tr>\n",
       "  </tbody>\n",
       "</table>\n",
       "</div>"
      ],
      "text/plain": [
       "          Density          YP  Temperature         ROP  Pipe rotation  \\\n",
       "count  116.000000  116.000000   116.000000  116.000000     116.000000   \n",
       "mean     9.333310   22.931034   136.034483   31.293103      33.103448   \n",
       "std      1.653067   12.718849    44.308784    6.597783      39.571922   \n",
       "min      8.314000    0.000000    80.000000   15.000000       0.000000   \n",
       "25%      8.314000   20.000000    80.000000   30.000000       0.000000   \n",
       "50%      8.314000   20.000000   120.000000   30.000000       0.000000   \n",
       "75%     12.000000   40.000000   180.000000   40.000000      80.000000   \n",
       "max     12.000000   40.000000   180.000000   40.000000      80.000000   \n",
       "\n",
       "        Flow rate  Inclination  Eccentricity  Concentration  \n",
       "count  116.000000   116.000000    116.000000     116.000000  \n",
       "mean   143.103448    83.258621      0.769621       0.113621  \n",
       "std     45.989863    10.514686      0.160266       0.108719  \n",
       "min     75.000000    67.000000      0.541000       0.000000  \n",
       "25%    100.000000    67.000000      0.541000       0.017500  \n",
       "50%    150.000000    90.000000      0.881000       0.075000  \n",
       "75%    200.000000    90.000000      0.881000       0.190000  \n",
       "max    250.000000    90.000000      0.881000       0.410000  "
      ]
     },
     "execution_count": 3,
     "metadata": {},
     "output_type": "execute_result"
    }
   ],
   "source": [
    "dataset.describe()"
   ]
  },
  {
   "cell_type": "code",
   "execution_count": 4,
   "id": "90e1531f",
   "metadata": {},
   "outputs": [],
   "source": [
    "dataset.to_csv('cleaned_data.csv')"
   ]
  },
  {
   "cell_type": "markdown",
   "id": "3eff6b64",
   "metadata": {},
   "source": [
    "## Plotting the Correlation Matrix"
   ]
  },
  {
   "cell_type": "code",
   "execution_count": 5,
   "id": "9d58f993",
   "metadata": {},
   "outputs": [],
   "source": [
    "df = pd.read_csv('dataframe.csv', header = 0)\n",
    "df.rename(columns = {'Density, ppg' : 'Density'}, inplace = True)\n",
    "df.drop(columns = ['Test No.'], inplace = True)"
   ]
  },
  {
   "cell_type": "code",
   "execution_count": 6,
   "id": "eeb9f631",
   "metadata": {
    "scrolled": false
   },
   "outputs": [
    {
     "data": {
      "image/png": "[encoded data removed]",
      "text/plain": [
       "<Figure size 1000x800 with 2 Axes>"
      ]
     },
     "metadata": {
      "needs_background": "light"
     },
     "output_type": "display_data"
    }
   ],
   "source": [
    "corr = df.corr().round(3)\n",
    "\n",
    "plt.figure(figsize = (10, 8), dpi = 100)\n",
    "mask = np.triu(np.ones_like(corr, dtype = bool))\n",
    "sns.set_theme(style = 'darkgrid')\n",
    "sns.heatmap(corr, annot= True, center = 0, mask = mask, linewidths  = .5, cmap = 'RdYlGn', vmin = -1, vmax = 1)\n",
    "plt.xticks(rotation = 30)\n",
    "plt.title('Correlation Matrix', fontdict = {'fontsize': 14, 'style':'oblique', 'weight': 'bold'})\n",
    "plt.savefig(fname = 'correlation_matrix.png', format = 'png');"
   ]
  },
  {
   "cell_type": "markdown",
   "id": "a5a06c94",
   "metadata": {},
   "source": [
    "## Feature Ranking"
   ]
  },
  {
   "cell_type": "code",
   "execution_count": 7,
   "id": "26c8f4c5",
   "metadata": {},
   "outputs": [
    {
     "data": {
      "text/plain": [
       "Flow rate        0.485\n",
       "Pipe rotation    0.474\n",
       "Density          0.314\n",
       "Temperature      0.123\n",
       "Inclination      0.110\n",
       "YP               0.097\n",
       "PV               0.096\n",
       "Eccentricity     0.033\n",
       "ROP              0.001\n",
       "Name: Concentration, dtype: float64"
      ]
     },
     "execution_count": 7,
     "metadata": {},
     "output_type": "execute_result"
    }
   ],
   "source": [
    "corr_coef = np.abs(corr.iloc[-1, :-1]).sort_values(ascending=False)\n",
    "corr_coef"
   ]
  },
  {
   "cell_type": "code",
   "execution_count": 8,
   "id": "266f80ef",
   "metadata": {},
   "outputs": [
    {
     "data": {
      "text/plain": [
       "Flow rate        0.337880\n",
       "Pipe rotation    0.273177\n",
       "Density          0.153824\n",
       "Inclination      0.078536\n",
       "Temperature      0.057394\n",
       "ROP              0.036025\n",
       "YP               0.023389\n",
       "PV               0.022279\n",
       "Eccentricity     0.017496\n",
       "dtype: float64"
      ]
     },
     "execution_count": 8,
     "metadata": {},
     "output_type": "execute_result"
    }
   ],
   "source": [
    "forest_clf = RandomForestRegressor(criterion = 'squared_error')\n",
    "forest_clf.fit(df.drop(columns = 'Concentration'), df['Concentration'])\n",
    "gini_importance = pd.Series(index=df.columns[:-1], data = forest_clf.feature_importances_).sort_values(ascending = False)\n",
    "gini_importance"
   ]
  },
  {
   "cell_type": "code",
   "execution_count": 9,
   "id": "12132a04",
   "metadata": {},
   "outputs": [
    {
     "data": {
      "text/html": [
       "<div>\n",
       "<style scoped>\n",
       "    .dataframe tbody tr th:only-of-type {\n",
       "        vertical-align: middle;\n",
       "    }\n",
       "\n",
       "    .dataframe tbody tr th {\n",
       "        vertical-align: top;\n",
       "    }\n",
       "\n",
       "    .dataframe thead th {\n",
       "        text-align: right;\n",
       "    }\n",
       "</style>\n",
       "<table border=\"1\" class=\"dataframe\">\n",
       "  <thead>\n",
       "    <tr style=\"text-align: right;\">\n",
       "      <th></th>\n",
       "      <th>Pearson</th>\n",
       "      <th>Gini</th>\n",
       "    </tr>\n",
       "  </thead>\n",
       "  <tbody>\n",
       "    <tr>\n",
       "      <th>0</th>\n",
       "      <td>Flow rate</td>\n",
       "      <td>Flow rate</td>\n",
       "    </tr>\n",
       "    <tr>\n",
       "      <th>1</th>\n",
       "      <td>Pipe rotation</td>\n",
       "      <td>Pipe rotation</td>\n",
       "    </tr>\n",
       "    <tr>\n",
       "      <th>2</th>\n",
       "      <td>Density</td>\n",
       "      <td>Density</td>\n",
       "    </tr>\n",
       "    <tr>\n",
       "      <th>3</th>\n",
       "      <td>Temperature</td>\n",
       "      <td>Inclination</td>\n",
       "    </tr>\n",
       "    <tr>\n",
       "      <th>4</th>\n",
       "      <td>Inclination</td>\n",
       "      <td>Temperature</td>\n",
       "    </tr>\n",
       "    <tr>\n",
       "      <th>5</th>\n",
       "      <td>YP</td>\n",
       "      <td>ROP</td>\n",
       "    </tr>\n",
       "    <tr>\n",
       "      <th>6</th>\n",
       "      <td>PV</td>\n",
       "      <td>YP</td>\n",
       "    </tr>\n",
       "    <tr>\n",
       "      <th>7</th>\n",
       "      <td>Eccentricity</td>\n",
       "      <td>PV</td>\n",
       "    </tr>\n",
       "    <tr>\n",
       "      <th>8</th>\n",
       "      <td>ROP</td>\n",
       "      <td>Eccentricity</td>\n",
       "    </tr>\n",
       "  </tbody>\n",
       "</table>\n",
       "</div>"
      ],
      "text/plain": [
       "         Pearson           Gini\n",
       "0      Flow rate      Flow rate\n",
       "1  Pipe rotation  Pipe rotation\n",
       "2        Density        Density\n",
       "3    Temperature    Inclination\n",
       "4    Inclination    Temperature\n",
       "5             YP            ROP\n",
       "6             PV             YP\n",
       "7   Eccentricity             PV\n",
       "8            ROP   Eccentricity"
      ]
     },
     "execution_count": 9,
     "metadata": {},
     "output_type": "execute_result"
    }
   ],
   "source": [
    "feature_importance = pd.DataFrame({'Pearson':corr_coef.index, 'Gini': gini_importance.index})\n",
    "feature_importance"
   ]
  }
 ],
 "metadata": {
  "kernelspec": {
   "display_name": "Python 3.9.6 64-bit",
   "language": "python",
   "name": "python3"
  },
  "language_info": {
   "codemirror_mode": {
    "name": "ipython",
    "version": 3
   },
   "file_extension": ".py",
   "mimetype": "text/x-python",
   "name": "python",
   "nbconvert_exporter": "python",
   "pygments_lexer": "ipython3",
   "version": "3.9.6"
  },
  "vscode": {
   "interpreter": {
    "hash": "5ef3141e487b593a8f44045d5bdbf5fb76b4a9107cbb1549cfca054e738b2143"
   }
  }
 },
 "nbformat": 4,
 "nbformat_minor": 5
}
